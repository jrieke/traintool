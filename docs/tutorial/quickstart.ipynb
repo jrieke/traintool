{
  "nbformat": 4,
  "nbformat_minor": 0,
  "metadata": {
    "colab": {
      "name": "quickstart.ipynb",
      "provenance": [],
      "collapsed_sections": []
    },
    "kernelspec": {
      "name": "python3",
      "display_name": "Python 3"
    }
  },
  "cells": [
    {
      "cell_type": "markdown",
      "metadata": {
        "id": "ak4L7hONDZdx"
      },
      "source": [
        "# Quickstart\n",
        "\n",
        "Welcome to **traintool**!\n",
        "\n",
        "In this quickstart, we will train a few models on MNIST. This should give you a rough overview of what traintool can do. \n",
        "\n",
        "You can follow along interactively in **Google Colab** (a free Jupyter notebook service):\n",
        "\n",
        "[![Open In Colab](https://colab.research.google.com/assets/colab-badge.svg)](https://colab.research.google.com/github/jrieke/traintool/blob/master/docs/tutorial/quickstart.ipynb)\n",
        "\n",
        "*We highly recommend to use Colab for this tutorial because it gives you free GPU access, which makes training much faster. Important: To enable GPU support, click on \"Runtime\" -> \"Change runtime type\", select \"GPU\" and hit \"Save\".*\n",
        "\n",
        "---\n"
      ]
    },
    {
      "cell_type": "markdown",
      "metadata": {
        "id": "ZHmp7C-GEpLH"
      },
      "source": [
        "First, let's install traintool:"
      ]
    },
    {
      "cell_type": "code",
      "metadata": {
        "id": "sBitaippDXMG"
      },
      "source": [
        "!pip install -U git+https://github.com/jrieke/traintool"
      ],
      "execution_count": null,
      "outputs": []
    },
    {
      "cell_type": "markdown",
      "metadata": {
        "id": "IJunE3-NEuCW"
      },
      "source": [
        "Next, we import traintool and load the mnist dataset (installed with traintool):"
      ]
    },
    {
      "cell_type": "code",
      "metadata": {
        "id": "1-dX_WnO1j08"
      },
      "source": [
        "import traintool\n",
        "import mnist"
      ],
      "execution_count": null,
      "outputs": []
    },
    {
      "cell_type": "code",
      "metadata": {
        "id": "IagipCnO1wfi"
      },
      "source": [
        "train_images = mnist.train_images()[:, None]  # add color dimension\n",
        "train_labels = mnist.train_labels()\n",
        "test_images = mnist.test_images()[:, None]\n",
        "test_labels = mnist.test_labels()\n",
        "\n",
        "print(\"Images shape:\", train_images.shape)\n",
        "print(\"Labels shape:\", train_labels.shape)"
      ],
      "execution_count": null,
      "outputs": []
    },
    {
      "cell_type": "markdown",
      "metadata": {
        "id": "NWfMdByHE5qM"
      },
      "source": [
        "As you can see, all data from the `mnist` package comes as numpy arrays. Images have the shape `num samples x color channels x height x width`. Note that traintool can handle numpy arrays like here as well as image files on your machine (see here)."
      ]
    },
    {
      "cell_type": "markdown",
      "metadata": {
        "id": "BTyAJVPGMOgs"
      },
      "source": [
        "## First model"
      ]
    },
    {
      "cell_type": "markdown",
      "metadata": {
        "id": "x6mlF9hTGaEr"
      },
      "source": [
        "Let's train our first model! We will use a very simple model, a support vector classifier (called `svc` in traintool). Training it requires only one line of code:\n",
        "\n",
        "*Note: We use the config parameter `num_samples` here to train only on a subset of the data to make it faster.*"
      ]
    },
    {
      "cell_type": "code",
      "metadata": {
        "id": "1OZvJ2kT2CVO"
      },
      "source": [
        "svc = traintool.train(\"svc\", \n",
        "                      train_data=[train_images, train_labels], \n",
        "                      test_data=[test_images, test_labels], \n",
        "                      config={\"num_samples\": 500})"
      ],
      "execution_count": null,
      "outputs": []
    },
    {
      "cell_type": "markdown",
      "metadata": {
        "id": "rBm1LQJnGnHl"
      },
      "source": [
        "That looks very simple – but under the hood, a lot of stuff happened:\n",
        "\n",
        "1) traintool printed some **general information** about the experiment: Its ID, which model and configuration was used, where the model is saved and how you can load it later. \n",
        "\n",
        "2) Then, it **preprocessed** the data. It automatically converted all data to the correct format and applied some light preprocessing that makes sense with this model. \n",
        "\n",
        "3) It created and **trained** the model. Under the hood, traintool uses different frameworks for this step (e.g. scikit-learn or pytorch) but as a user, you don't have to worry about any of this. After training, traintool printed the resulting accuracies (should be 80-85 % here).\n",
        "\n",
        "4) traintool automatically **saved** the model, console output and tensorboard logs into a time-stamped folder (see below).\n",
        "\n",
        "---"
      ]
    },
    {
      "cell_type": "markdown",
      "metadata": {
        "id": "Mt2auldciv1f"
      },
      "source": [
        "To make a prediction with this model, simply use its `predict` function:"
      ]
    },
    {
      "cell_type": "code",
      "metadata": {
        "id": "dQ6woUskinsi"
      },
      "source": [
        "svc.predict(test_images[0])"
      ],
      "execution_count": null,
      "outputs": []
    },
    {
      "cell_type": "markdown",
      "metadata": {
        "id": "XVhM_hkLjAUF"
      },
      "source": [
        "This gives you a dictionary with the predicted class and probabilities for each class. Note that for now, `predict` can only process a single image at a time. As the `train` method, it works with numpy arrays and image files (see here)."
      ]
    },
    {
      "cell_type": "markdown",
      "metadata": {
        "id": "zNhKQxCdMQ9G"
      },
      "source": [
        "## Another model"
      ]
    },
    {
      "cell_type": "markdown",
      "metadata": {
        "id": "BPamL3DbJ72B"
      },
      "source": [
        "\n",
        "Ok, now what if you want to train a different model? traintool makes this very easy: You only have to call the `train` function with a different model name – no need to rewrite the implementation or change the data just because you use a model from a different framework!\n",
        "\n",
        "Let's train a residual network (`resnet18`), a deep neural network from pytorch (make sure to use a GPU!):"
      ]
    },
    {
      "cell_type": "code",
      "metadata": {
        "id": "lskB7rhw2E37"
      },
      "source": [
        "resnet = traintool.train(\"resnet18\", \n",
        "                         train_data=[train_images, train_labels],\n",
        "                         test_data=[test_images, test_labels],\n",
        "                         config={\"batch_size\": 128, \"print_every\": 10, \"num_epochs\": 2, \"num_samples\": 10000})"
      ],
      "execution_count": null,
      "outputs": []
    },
    {
      "cell_type": "markdown",
      "metadata": {
        "id": "rYUNQIAEUSu3"
      },
      "source": [
        "And with this simple command, you can train all models supported by traintool! See [here](https://traintool.jrieke.com/models/image-classification/) for a list of models. \n",
        "\n",
        "As you may have noticed, we set some parameters with the `config` argument above. `config` is the central place to define hyperparameters for training. The supported hyperparameters vary from model to model – it's best to have a look at the overview page linked above. \n",
        "\n"
      ]
    },
    {
      "cell_type": "markdown",
      "metadata": {
        "id": "j8Mdq6AXcomF"
      },
      "source": [
        "## Experiment tracking"
      ]
    },
    {
      "cell_type": "markdown",
      "metadata": {
        "id": "BlkMmxlZctbs"
      },
      "source": [
        "traintool automatically keeps track of all experiments you run. Each experiment is stored in a time-stamped folder in `./traintool-experiments`. Have a look at this folder now to see the experiments you ran above! (If you are in Colab, click on the folder icon on the top left).\n",
        "\n",
        "*Tip: You can disable saving with `save=False`.*"
      ]
    },
    {
      "cell_type": "markdown",
      "metadata": {
        "id": "cyngzaQteHQ0"
      },
      "source": [
        "Each experiment folder contains:\n",
        "\n",
        "- `info.yml`: General information about the experiment\n",
        "- `stdout.log`: The entire console output\n",
        "- model files and possibly checkpoints (e.g. the pytorch binary `model.pt` for resnet18)"
      ]
    },
    {
      "cell_type": "markdown",
      "metadata": {
        "id": "tl41Bq9teL-Y"
      },
      "source": [
        "Also, traintool writes all your metrics and evaluations to [tensorboard](https://www.tensorflow.org/tensorboard), a powerful visualization platform from tensorflow. Let's start tensorboard now: If you are on a local machine, start a terminal in this dir and type `tensorboard --logdir traintool-experiments`. If you are on Colab, just run the cell below:"
      ]
    },
    {
      "cell_type": "code",
      "metadata": {
        "id": "Wk2eD-9mCeRn"
      },
      "source": [
        "%load_ext tensorboard\n",
        "%tensorboard --logdir traintool-experiments/"
      ],
      "execution_count": null,
      "outputs": []
    },
    {
      "cell_type": "markdown",
      "metadata": {
        "id": "Ldx4CtPHe5jC"
      },
      "source": [
        "Let's see what's going on here: On the bottom left, you can select individual experiments. On the right, you should by default see scalar metrics: The loss and accuracy for train and test set. You can also click on `Images` at the top to see some sample images from both datasets along with classification results (use the sliders to look at different epochs!).\n",
        "\n",
        "*Tip: You can also store metrics in comet.ml, see here.*"
      ]
    },
    {
      "cell_type": "markdown",
      "metadata": {
        "id": "1bzWx_7Lh3Zn"
      },
      "source": [
        "## Load, deploy and raw"
      ]
    },
    {
      "cell_type": "markdown",
      "metadata": {
        "id": "Z66dv-Rnh6-D"
      },
      "source": [
        "Before we end this quickstart, let's look at two other important functions:\n",
        "\n",
        "- **Loading:** To load a saved model, just pass its ID (or directory path) to `traintool.load(...)`. Check out the line starting with `Load via:` in the console output above – it shows you directly which command to call.\n",
        "- **Deployment:** traintool can easily deploy your trained model through a REST API. Simply call `model.deploy()` to start the server (note that this call is blocking!). More information here.\n",
        "- **Raw models:** traintool models are implemented in different frameworks, e.g. scikit-learn or pytorch. You can get access to the raw models by calling `model.raw()`. "
      ]
    },
    {
      "cell_type": "markdown",
      "metadata": {
        "id": "abU5z1zVkWRS"
      },
      "source": [
        "\n",
        "---"
      ]
    },
    {
      "cell_type": "markdown",
      "metadata": {
        "id": "D8FUSxzjj6pu"
      },
      "source": [
        "That's it! You should now be able to start using traintool. Make sure to read the complete tutorial and documentation to learn more! \n",
        "\n",
        "Please also consider leaving a ⭐ on our [Github](https://github.com/jrieke/traintool)."
      ]
    }
  ]
}